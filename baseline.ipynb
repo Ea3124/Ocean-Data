{
 "cells": [
  {
   "cell_type": "code",
   "execution_count": 1,
   "metadata": {},
   "outputs": [
    {
     "data": {
      "text/plain": [
       "True"
      ]
     },
     "execution_count": 1,
     "metadata": {},
     "output_type": "execute_result"
    }
   ],
   "source": [
    "import torch\n",
    "\n",
    "torch.cuda.is_available()"
   ]
  },
  {
   "cell_type": "code",
   "execution_count": 2,
   "metadata": {},
   "outputs": [
    {
     "name": "stdout",
     "output_type": "stream",
     "text": [
      "Requirement already satisfied: accelerate in /home/jiyoon/miniconda3/envs/financial_info/lib/python3.9/site-packages (0.34.2)\n",
      "Requirement already satisfied: numpy<3.0.0,>=1.17 in /home/jiyoon/miniconda3/envs/financial_info/lib/python3.9/site-packages (from accelerate) (1.26.4)\n",
      "Requirement already satisfied: packaging>=20.0 in /home/jiyoon/miniconda3/envs/financial_info/lib/python3.9/site-packages (from accelerate) (24.1)\n",
      "Requirement already satisfied: psutil in /home/jiyoon/miniconda3/envs/financial_info/lib/python3.9/site-packages (from accelerate) (5.9.0)\n",
      "Requirement already satisfied: pyyaml in /home/jiyoon/miniconda3/envs/financial_info/lib/python3.9/site-packages (from accelerate) (6.0.1)\n",
      "Requirement already satisfied: torch>=1.10.0 in /home/jiyoon/miniconda3/envs/financial_info/lib/python3.9/site-packages (from accelerate) (2.4.1)\n",
      "Requirement already satisfied: huggingface-hub>=0.21.0 in /home/jiyoon/miniconda3/envs/financial_info/lib/python3.9/site-packages (from accelerate) (0.24.6)\n",
      "Requirement already satisfied: safetensors>=0.4.3 in /home/jiyoon/miniconda3/envs/financial_info/lib/python3.9/site-packages (from accelerate) (0.4.5)\n",
      "Requirement already satisfied: filelock in /home/jiyoon/miniconda3/envs/financial_info/lib/python3.9/site-packages (from huggingface-hub>=0.21.0->accelerate) (3.13.1)\n",
      "Requirement already satisfied: fsspec>=2023.5.0 in /home/jiyoon/miniconda3/envs/financial_info/lib/python3.9/site-packages (from huggingface-hub>=0.21.0->accelerate) (2024.6.1)\n",
      "Requirement already satisfied: requests in /home/jiyoon/miniconda3/envs/financial_info/lib/python3.9/site-packages (from huggingface-hub>=0.21.0->accelerate) (2.32.3)\n",
      "Requirement already satisfied: tqdm>=4.42.1 in /home/jiyoon/miniconda3/envs/financial_info/lib/python3.9/site-packages (from huggingface-hub>=0.21.0->accelerate) (4.66.5)\n",
      "Requirement already satisfied: typing-extensions>=3.7.4.3 in /home/jiyoon/miniconda3/envs/financial_info/lib/python3.9/site-packages (from huggingface-hub>=0.21.0->accelerate) (4.11.0)\n",
      "Requirement already satisfied: sympy in /home/jiyoon/miniconda3/envs/financial_info/lib/python3.9/site-packages (from torch>=1.10.0->accelerate) (1.13.2)\n",
      "Requirement already satisfied: networkx in /home/jiyoon/miniconda3/envs/financial_info/lib/python3.9/site-packages (from torch>=1.10.0->accelerate) (3.2.1)\n",
      "Requirement already satisfied: jinja2 in /home/jiyoon/miniconda3/envs/financial_info/lib/python3.9/site-packages (from torch>=1.10.0->accelerate) (3.1.4)\n",
      "Requirement already satisfied: MarkupSafe>=2.0 in /home/jiyoon/miniconda3/envs/financial_info/lib/python3.9/site-packages (from jinja2->torch>=1.10.0->accelerate) (2.1.3)\n",
      "Requirement already satisfied: charset-normalizer<4,>=2 in /home/jiyoon/miniconda3/envs/financial_info/lib/python3.9/site-packages (from requests->huggingface-hub>=0.21.0->accelerate) (3.3.2)\n",
      "Requirement already satisfied: idna<4,>=2.5 in /home/jiyoon/miniconda3/envs/financial_info/lib/python3.9/site-packages (from requests->huggingface-hub>=0.21.0->accelerate) (3.7)\n",
      "Requirement already satisfied: urllib3<3,>=1.21.1 in /home/jiyoon/miniconda3/envs/financial_info/lib/python3.9/site-packages (from requests->huggingface-hub>=0.21.0->accelerate) (2.2.2)\n",
      "Requirement already satisfied: certifi>=2017.4.17 in /home/jiyoon/miniconda3/envs/financial_info/lib/python3.9/site-packages (from requests->huggingface-hub>=0.21.0->accelerate) (2024.8.30)\n",
      "Requirement already satisfied: mpmath<1.4,>=1.1.0 in /home/jiyoon/miniconda3/envs/financial_info/lib/python3.9/site-packages (from sympy->torch>=1.10.0->accelerate) (1.3.0)\n",
      "Looking in indexes: https://pypi.org/simple/\n",
      "Requirement already satisfied: bitsandbytes in /home/jiyoon/miniconda3/envs/financial_info/lib/python3.9/site-packages (0.43.3)\n",
      "Requirement already satisfied: torch in /home/jiyoon/miniconda3/envs/financial_info/lib/python3.9/site-packages (from bitsandbytes) (2.4.1)\n",
      "Requirement already satisfied: numpy in /home/jiyoon/miniconda3/envs/financial_info/lib/python3.9/site-packages (from bitsandbytes) (1.26.4)\n",
      "Requirement already satisfied: filelock in /home/jiyoon/miniconda3/envs/financial_info/lib/python3.9/site-packages (from torch->bitsandbytes) (3.13.1)\n",
      "Requirement already satisfied: typing-extensions>=4.8.0 in /home/jiyoon/miniconda3/envs/financial_info/lib/python3.9/site-packages (from torch->bitsandbytes) (4.11.0)\n",
      "Requirement already satisfied: sympy in /home/jiyoon/miniconda3/envs/financial_info/lib/python3.9/site-packages (from torch->bitsandbytes) (1.13.2)\n",
      "Requirement already satisfied: networkx in /home/jiyoon/miniconda3/envs/financial_info/lib/python3.9/site-packages (from torch->bitsandbytes) (3.2.1)\n",
      "Requirement already satisfied: jinja2 in /home/jiyoon/miniconda3/envs/financial_info/lib/python3.9/site-packages (from torch->bitsandbytes) (3.1.4)\n",
      "Requirement already satisfied: fsspec in /home/jiyoon/miniconda3/envs/financial_info/lib/python3.9/site-packages (from torch->bitsandbytes) (2024.6.1)\n",
      "Requirement already satisfied: MarkupSafe>=2.0 in /home/jiyoon/miniconda3/envs/financial_info/lib/python3.9/site-packages (from jinja2->torch->bitsandbytes) (2.1.3)\n",
      "Requirement already satisfied: mpmath<1.4,>=1.1.0 in /home/jiyoon/miniconda3/envs/financial_info/lib/python3.9/site-packages (from sympy->torch->bitsandbytes) (1.3.0)\n",
      "Requirement already satisfied: transformers[torch] in /home/jiyoon/miniconda3/envs/financial_info/lib/python3.9/site-packages (4.46.1)\n",
      "Requirement already satisfied: filelock in /home/jiyoon/miniconda3/envs/financial_info/lib/python3.9/site-packages (from transformers[torch]) (3.13.1)\n",
      "Requirement already satisfied: huggingface-hub<1.0,>=0.23.2 in /home/jiyoon/miniconda3/envs/financial_info/lib/python3.9/site-packages (from transformers[torch]) (0.24.6)\n",
      "Requirement already satisfied: numpy>=1.17 in /home/jiyoon/miniconda3/envs/financial_info/lib/python3.9/site-packages (from transformers[torch]) (1.26.4)\n",
      "Requirement already satisfied: packaging>=20.0 in /home/jiyoon/miniconda3/envs/financial_info/lib/python3.9/site-packages (from transformers[torch]) (24.1)\n",
      "Requirement already satisfied: pyyaml>=5.1 in /home/jiyoon/miniconda3/envs/financial_info/lib/python3.9/site-packages (from transformers[torch]) (6.0.1)\n",
      "Requirement already satisfied: regex!=2019.12.17 in /home/jiyoon/miniconda3/envs/financial_info/lib/python3.9/site-packages (from transformers[torch]) (2024.9.11)\n",
      "Requirement already satisfied: requests in /home/jiyoon/miniconda3/envs/financial_info/lib/python3.9/site-packages (from transformers[torch]) (2.32.3)\n",
      "Requirement already satisfied: safetensors>=0.4.1 in /home/jiyoon/miniconda3/envs/financial_info/lib/python3.9/site-packages (from transformers[torch]) (0.4.5)\n",
      "Requirement already satisfied: tokenizers<0.21,>=0.20 in /home/jiyoon/miniconda3/envs/financial_info/lib/python3.9/site-packages (from transformers[torch]) (0.20.1)\n",
      "Requirement already satisfied: tqdm>=4.27 in /home/jiyoon/miniconda3/envs/financial_info/lib/python3.9/site-packages (from transformers[torch]) (4.66.5)\n",
      "Requirement already satisfied: accelerate>=0.26.0 in /home/jiyoon/miniconda3/envs/financial_info/lib/python3.9/site-packages (from transformers[torch]) (0.34.2)\n",
      "Requirement already satisfied: torch in /home/jiyoon/miniconda3/envs/financial_info/lib/python3.9/site-packages (from transformers[torch]) (2.4.1)\n",
      "Requirement already satisfied: psutil in /home/jiyoon/miniconda3/envs/financial_info/lib/python3.9/site-packages (from accelerate>=0.26.0->transformers[torch]) (5.9.0)\n",
      "Requirement already satisfied: fsspec>=2023.5.0 in /home/jiyoon/miniconda3/envs/financial_info/lib/python3.9/site-packages (from huggingface-hub<1.0,>=0.23.2->transformers[torch]) (2024.6.1)\n",
      "Requirement already satisfied: typing-extensions>=3.7.4.3 in /home/jiyoon/miniconda3/envs/financial_info/lib/python3.9/site-packages (from huggingface-hub<1.0,>=0.23.2->transformers[torch]) (4.11.0)\n",
      "Requirement already satisfied: sympy in /home/jiyoon/miniconda3/envs/financial_info/lib/python3.9/site-packages (from torch->transformers[torch]) (1.13.2)\n",
      "Requirement already satisfied: networkx in /home/jiyoon/miniconda3/envs/financial_info/lib/python3.9/site-packages (from torch->transformers[torch]) (3.2.1)\n",
      "Requirement already satisfied: jinja2 in /home/jiyoon/miniconda3/envs/financial_info/lib/python3.9/site-packages (from torch->transformers[torch]) (3.1.4)\n",
      "Requirement already satisfied: charset-normalizer<4,>=2 in /home/jiyoon/miniconda3/envs/financial_info/lib/python3.9/site-packages (from requests->transformers[torch]) (3.3.2)\n",
      "Requirement already satisfied: idna<4,>=2.5 in /home/jiyoon/miniconda3/envs/financial_info/lib/python3.9/site-packages (from requests->transformers[torch]) (3.7)\n",
      "Requirement already satisfied: urllib3<3,>=1.21.1 in /home/jiyoon/miniconda3/envs/financial_info/lib/python3.9/site-packages (from requests->transformers[torch]) (2.2.2)\n",
      "Requirement already satisfied: certifi>=2017.4.17 in /home/jiyoon/miniconda3/envs/financial_info/lib/python3.9/site-packages (from requests->transformers[torch]) (2024.8.30)\n",
      "Requirement already satisfied: MarkupSafe>=2.0 in /home/jiyoon/miniconda3/envs/financial_info/lib/python3.9/site-packages (from jinja2->torch->transformers[torch]) (2.1.3)\n",
      "Requirement already satisfied: mpmath<1.4,>=1.1.0 in /home/jiyoon/miniconda3/envs/financial_info/lib/python3.9/site-packages (from sympy->torch->transformers[torch]) (1.3.0)\n",
      "Requirement already satisfied: datasets in /home/jiyoon/miniconda3/envs/financial_info/lib/python3.9/site-packages (3.0.0)\n",
      "Requirement already satisfied: filelock in /home/jiyoon/miniconda3/envs/financial_info/lib/python3.9/site-packages (from datasets) (3.13.1)\n",
      "Requirement already satisfied: numpy>=1.17 in /home/jiyoon/miniconda3/envs/financial_info/lib/python3.9/site-packages (from datasets) (1.26.4)\n",
      "Requirement already satisfied: pyarrow>=15.0.0 in /home/jiyoon/miniconda3/envs/financial_info/lib/python3.9/site-packages (from datasets) (17.0.0)\n",
      "Requirement already satisfied: dill<0.3.9,>=0.3.0 in /home/jiyoon/miniconda3/envs/financial_info/lib/python3.9/site-packages (from datasets) (0.3.8)\n",
      "Requirement already satisfied: pandas in /home/jiyoon/miniconda3/envs/financial_info/lib/python3.9/site-packages (from datasets) (2.2.2)\n",
      "Requirement already satisfied: requests>=2.32.2 in /home/jiyoon/miniconda3/envs/financial_info/lib/python3.9/site-packages (from datasets) (2.32.3)\n",
      "Requirement already satisfied: tqdm>=4.66.3 in /home/jiyoon/miniconda3/envs/financial_info/lib/python3.9/site-packages (from datasets) (4.66.5)\n",
      "Requirement already satisfied: xxhash in /home/jiyoon/miniconda3/envs/financial_info/lib/python3.9/site-packages (from datasets) (3.5.0)\n",
      "Requirement already satisfied: multiprocess in /home/jiyoon/miniconda3/envs/financial_info/lib/python3.9/site-packages (from datasets) (0.70.16)\n",
      "Requirement already satisfied: fsspec<=2024.6.1,>=2023.1.0 in /home/jiyoon/miniconda3/envs/financial_info/lib/python3.9/site-packages (from fsspec[http]<=2024.6.1,>=2023.1.0->datasets) (2024.6.1)\n",
      "Requirement already satisfied: aiohttp in /home/jiyoon/miniconda3/envs/financial_info/lib/python3.9/site-packages (from datasets) (3.10.5)\n",
      "Requirement already satisfied: huggingface-hub>=0.22.0 in /home/jiyoon/miniconda3/envs/financial_info/lib/python3.9/site-packages (from datasets) (0.24.6)\n",
      "Requirement already satisfied: packaging in /home/jiyoon/miniconda3/envs/financial_info/lib/python3.9/site-packages (from datasets) (24.1)\n",
      "Requirement already satisfied: pyyaml>=5.1 in /home/jiyoon/miniconda3/envs/financial_info/lib/python3.9/site-packages (from datasets) (6.0.1)\n",
      "Requirement already satisfied: aiohappyeyeballs>=2.3.0 in /home/jiyoon/miniconda3/envs/financial_info/lib/python3.9/site-packages (from aiohttp->datasets) (2.4.0)\n",
      "Requirement already satisfied: aiosignal>=1.1.2 in /home/jiyoon/miniconda3/envs/financial_info/lib/python3.9/site-packages (from aiohttp->datasets) (1.3.1)\n",
      "Requirement already satisfied: attrs>=17.3.0 in /home/jiyoon/miniconda3/envs/financial_info/lib/python3.9/site-packages (from aiohttp->datasets) (23.1.0)\n",
      "Requirement already satisfied: frozenlist>=1.1.1 in /home/jiyoon/miniconda3/envs/financial_info/lib/python3.9/site-packages (from aiohttp->datasets) (1.4.1)\n",
      "Requirement already satisfied: multidict<7.0,>=4.5 in /home/jiyoon/miniconda3/envs/financial_info/lib/python3.9/site-packages (from aiohttp->datasets) (6.1.0)\n",
      "Requirement already satisfied: yarl<2.0,>=1.0 in /home/jiyoon/miniconda3/envs/financial_info/lib/python3.9/site-packages (from aiohttp->datasets) (1.11.1)\n",
      "Requirement already satisfied: async-timeout<5.0,>=4.0 in /home/jiyoon/miniconda3/envs/financial_info/lib/python3.9/site-packages (from aiohttp->datasets) (4.0.3)\n",
      "Requirement already satisfied: typing-extensions>=3.7.4.3 in /home/jiyoon/miniconda3/envs/financial_info/lib/python3.9/site-packages (from huggingface-hub>=0.22.0->datasets) (4.11.0)\n",
      "Requirement already satisfied: charset-normalizer<4,>=2 in /home/jiyoon/miniconda3/envs/financial_info/lib/python3.9/site-packages (from requests>=2.32.2->datasets) (3.3.2)\n",
      "Requirement already satisfied: idna<4,>=2.5 in /home/jiyoon/miniconda3/envs/financial_info/lib/python3.9/site-packages (from requests>=2.32.2->datasets) (3.7)\n",
      "Requirement already satisfied: urllib3<3,>=1.21.1 in /home/jiyoon/miniconda3/envs/financial_info/lib/python3.9/site-packages (from requests>=2.32.2->datasets) (2.2.2)\n",
      "Requirement already satisfied: certifi>=2017.4.17 in /home/jiyoon/miniconda3/envs/financial_info/lib/python3.9/site-packages (from requests>=2.32.2->datasets) (2024.8.30)\n",
      "Requirement already satisfied: python-dateutil>=2.8.2 in /home/jiyoon/miniconda3/envs/financial_info/lib/python3.9/site-packages (from pandas->datasets) (2.9.0.post0)\n",
      "Requirement already satisfied: pytz>=2020.1 in /home/jiyoon/miniconda3/envs/financial_info/lib/python3.9/site-packages (from pandas->datasets) (2024.1)\n",
      "Requirement already satisfied: tzdata>=2022.7 in /home/jiyoon/miniconda3/envs/financial_info/lib/python3.9/site-packages (from pandas->datasets) (2023.3)\n",
      "Requirement already satisfied: six>=1.5 in /home/jiyoon/miniconda3/envs/financial_info/lib/python3.9/site-packages (from python-dateutil>=2.8.2->pandas->datasets) (1.16.0)\n",
      "Requirement already satisfied: langchain in /home/jiyoon/miniconda3/envs/financial_info/lib/python3.9/site-packages (0.2.16)\n",
      "Requirement already satisfied: PyYAML>=5.3 in /home/jiyoon/miniconda3/envs/financial_info/lib/python3.9/site-packages (from langchain) (6.0.1)\n",
      "Requirement already satisfied: SQLAlchemy<3,>=1.4 in /home/jiyoon/miniconda3/envs/financial_info/lib/python3.9/site-packages (from langchain) (2.0.34)\n",
      "Requirement already satisfied: aiohttp<4.0.0,>=3.8.3 in /home/jiyoon/miniconda3/envs/financial_info/lib/python3.9/site-packages (from langchain) (3.10.5)\n",
      "Requirement already satisfied: async-timeout<5.0.0,>=4.0.0 in /home/jiyoon/miniconda3/envs/financial_info/lib/python3.9/site-packages (from langchain) (4.0.3)\n",
      "Requirement already satisfied: langchain-core<0.3.0,>=0.2.38 in /home/jiyoon/miniconda3/envs/financial_info/lib/python3.9/site-packages (from langchain) (0.2.39)\n",
      "Requirement already satisfied: langchain-text-splitters<0.3.0,>=0.2.0 in /home/jiyoon/miniconda3/envs/financial_info/lib/python3.9/site-packages (from langchain) (0.2.4)\n",
      "Requirement already satisfied: langsmith<0.2.0,>=0.1.17 in /home/jiyoon/miniconda3/envs/financial_info/lib/python3.9/site-packages (from langchain) (0.1.118)\n",
      "Requirement already satisfied: numpy<2,>=1 in /home/jiyoon/miniconda3/envs/financial_info/lib/python3.9/site-packages (from langchain) (1.26.4)\n",
      "Requirement already satisfied: pydantic<3,>=1 in /home/jiyoon/miniconda3/envs/financial_info/lib/python3.9/site-packages (from langchain) (2.9.1)\n",
      "Requirement already satisfied: requests<3,>=2 in /home/jiyoon/miniconda3/envs/financial_info/lib/python3.9/site-packages (from langchain) (2.32.3)\n",
      "Requirement already satisfied: tenacity!=8.4.0,<9.0.0,>=8.1.0 in /home/jiyoon/miniconda3/envs/financial_info/lib/python3.9/site-packages (from langchain) (8.5.0)\n",
      "Requirement already satisfied: aiohappyeyeballs>=2.3.0 in /home/jiyoon/miniconda3/envs/financial_info/lib/python3.9/site-packages (from aiohttp<4.0.0,>=3.8.3->langchain) (2.4.0)\n",
      "Requirement already satisfied: aiosignal>=1.1.2 in /home/jiyoon/miniconda3/envs/financial_info/lib/python3.9/site-packages (from aiohttp<4.0.0,>=3.8.3->langchain) (1.3.1)\n",
      "Requirement already satisfied: attrs>=17.3.0 in /home/jiyoon/miniconda3/envs/financial_info/lib/python3.9/site-packages (from aiohttp<4.0.0,>=3.8.3->langchain) (23.1.0)\n",
      "Requirement already satisfied: frozenlist>=1.1.1 in /home/jiyoon/miniconda3/envs/financial_info/lib/python3.9/site-packages (from aiohttp<4.0.0,>=3.8.3->langchain) (1.4.1)\n",
      "Requirement already satisfied: multidict<7.0,>=4.5 in /home/jiyoon/miniconda3/envs/financial_info/lib/python3.9/site-packages (from aiohttp<4.0.0,>=3.8.3->langchain) (6.1.0)\n",
      "Requirement already satisfied: yarl<2.0,>=1.0 in /home/jiyoon/miniconda3/envs/financial_info/lib/python3.9/site-packages (from aiohttp<4.0.0,>=3.8.3->langchain) (1.11.1)\n",
      "Requirement already satisfied: jsonpatch<2.0,>=1.33 in /home/jiyoon/miniconda3/envs/financial_info/lib/python3.9/site-packages (from langchain-core<0.3.0,>=0.2.38->langchain) (1.33)\n",
      "Requirement already satisfied: packaging<25,>=23.2 in /home/jiyoon/miniconda3/envs/financial_info/lib/python3.9/site-packages (from langchain-core<0.3.0,>=0.2.38->langchain) (24.1)\n",
      "Requirement already satisfied: typing-extensions>=4.7 in /home/jiyoon/miniconda3/envs/financial_info/lib/python3.9/site-packages (from langchain-core<0.3.0,>=0.2.38->langchain) (4.11.0)\n",
      "Requirement already satisfied: httpx<1,>=0.23.0 in /home/jiyoon/miniconda3/envs/financial_info/lib/python3.9/site-packages (from langsmith<0.2.0,>=0.1.17->langchain) (0.27.0)\n",
      "Requirement already satisfied: orjson<4.0.0,>=3.9.14 in /home/jiyoon/miniconda3/envs/financial_info/lib/python3.9/site-packages (from langsmith<0.2.0,>=0.1.17->langchain) (3.10.7)\n",
      "Requirement already satisfied: annotated-types>=0.6.0 in /home/jiyoon/miniconda3/envs/financial_info/lib/python3.9/site-packages (from pydantic<3,>=1->langchain) (0.7.0)\n",
      "Requirement already satisfied: pydantic-core==2.23.3 in /home/jiyoon/miniconda3/envs/financial_info/lib/python3.9/site-packages (from pydantic<3,>=1->langchain) (2.23.3)\n",
      "Requirement already satisfied: charset-normalizer<4,>=2 in /home/jiyoon/miniconda3/envs/financial_info/lib/python3.9/site-packages (from requests<3,>=2->langchain) (3.3.2)\n",
      "Requirement already satisfied: idna<4,>=2.5 in /home/jiyoon/miniconda3/envs/financial_info/lib/python3.9/site-packages (from requests<3,>=2->langchain) (3.7)\n",
      "Requirement already satisfied: urllib3<3,>=1.21.1 in /home/jiyoon/miniconda3/envs/financial_info/lib/python3.9/site-packages (from requests<3,>=2->langchain) (2.2.2)\n",
      "Requirement already satisfied: certifi>=2017.4.17 in /home/jiyoon/miniconda3/envs/financial_info/lib/python3.9/site-packages (from requests<3,>=2->langchain) (2024.8.30)\n",
      "Requirement already satisfied: greenlet!=0.4.17 in /home/jiyoon/miniconda3/envs/financial_info/lib/python3.9/site-packages (from SQLAlchemy<3,>=1.4->langchain) (3.1.0)\n",
      "Requirement already satisfied: anyio in /home/jiyoon/miniconda3/envs/financial_info/lib/python3.9/site-packages (from httpx<1,>=0.23.0->langsmith<0.2.0,>=0.1.17->langchain) (4.2.0)\n",
      "Requirement already satisfied: httpcore==1.* in /home/jiyoon/miniconda3/envs/financial_info/lib/python3.9/site-packages (from httpx<1,>=0.23.0->langsmith<0.2.0,>=0.1.17->langchain) (1.0.2)\n",
      "Requirement already satisfied: sniffio in /home/jiyoon/miniconda3/envs/financial_info/lib/python3.9/site-packages (from httpx<1,>=0.23.0->langsmith<0.2.0,>=0.1.17->langchain) (1.3.0)\n",
      "Requirement already satisfied: h11<0.15,>=0.13 in /home/jiyoon/miniconda3/envs/financial_info/lib/python3.9/site-packages (from httpcore==1.*->httpx<1,>=0.23.0->langsmith<0.2.0,>=0.1.17->langchain) (0.14.0)\n",
      "Requirement already satisfied: jsonpointer>=1.9 in /home/jiyoon/miniconda3/envs/financial_info/lib/python3.9/site-packages (from jsonpatch<2.0,>=1.33->langchain-core<0.3.0,>=0.2.38->langchain) (3.0.0)\n",
      "Requirement already satisfied: exceptiongroup>=1.0.2 in /home/jiyoon/miniconda3/envs/financial_info/lib/python3.9/site-packages (from anyio->httpx<1,>=0.23.0->langsmith<0.2.0,>=0.1.17->langchain) (1.2.0)\n",
      "Requirement already satisfied: langchain_community in /home/jiyoon/miniconda3/envs/financial_info/lib/python3.9/site-packages (0.2.16)\n",
      "Requirement already satisfied: PyYAML>=5.3 in /home/jiyoon/miniconda3/envs/financial_info/lib/python3.9/site-packages (from langchain_community) (6.0.1)\n",
      "Requirement already satisfied: SQLAlchemy<3,>=1.4 in /home/jiyoon/miniconda3/envs/financial_info/lib/python3.9/site-packages (from langchain_community) (2.0.34)\n",
      "Requirement already satisfied: aiohttp<4.0.0,>=3.8.3 in /home/jiyoon/miniconda3/envs/financial_info/lib/python3.9/site-packages (from langchain_community) (3.10.5)\n",
      "Requirement already satisfied: dataclasses-json<0.7,>=0.5.7 in /home/jiyoon/miniconda3/envs/financial_info/lib/python3.9/site-packages (from langchain_community) (0.6.7)\n",
      "Requirement already satisfied: langchain<0.3.0,>=0.2.16 in /home/jiyoon/miniconda3/envs/financial_info/lib/python3.9/site-packages (from langchain_community) (0.2.16)\n",
      "Requirement already satisfied: langchain-core<0.3.0,>=0.2.38 in /home/jiyoon/miniconda3/envs/financial_info/lib/python3.9/site-packages (from langchain_community) (0.2.39)\n",
      "Requirement already satisfied: langsmith<0.2.0,>=0.1.0 in /home/jiyoon/miniconda3/envs/financial_info/lib/python3.9/site-packages (from langchain_community) (0.1.118)\n",
      "Requirement already satisfied: numpy<2,>=1 in /home/jiyoon/miniconda3/envs/financial_info/lib/python3.9/site-packages (from langchain_community) (1.26.4)\n",
      "Requirement already satisfied: requests<3,>=2 in /home/jiyoon/miniconda3/envs/financial_info/lib/python3.9/site-packages (from langchain_community) (2.32.3)\n",
      "Requirement already satisfied: tenacity!=8.4.0,<9.0.0,>=8.1.0 in /home/jiyoon/miniconda3/envs/financial_info/lib/python3.9/site-packages (from langchain_community) (8.5.0)\n",
      "Requirement already satisfied: aiohappyeyeballs>=2.3.0 in /home/jiyoon/miniconda3/envs/financial_info/lib/python3.9/site-packages (from aiohttp<4.0.0,>=3.8.3->langchain_community) (2.4.0)\n",
      "Requirement already satisfied: aiosignal>=1.1.2 in /home/jiyoon/miniconda3/envs/financial_info/lib/python3.9/site-packages (from aiohttp<4.0.0,>=3.8.3->langchain_community) (1.3.1)\n",
      "Requirement already satisfied: attrs>=17.3.0 in /home/jiyoon/miniconda3/envs/financial_info/lib/python3.9/site-packages (from aiohttp<4.0.0,>=3.8.3->langchain_community) (23.1.0)\n",
      "Requirement already satisfied: frozenlist>=1.1.1 in /home/jiyoon/miniconda3/envs/financial_info/lib/python3.9/site-packages (from aiohttp<4.0.0,>=3.8.3->langchain_community) (1.4.1)\n",
      "Requirement already satisfied: multidict<7.0,>=4.5 in /home/jiyoon/miniconda3/envs/financial_info/lib/python3.9/site-packages (from aiohttp<4.0.0,>=3.8.3->langchain_community) (6.1.0)\n",
      "Requirement already satisfied: yarl<2.0,>=1.0 in /home/jiyoon/miniconda3/envs/financial_info/lib/python3.9/site-packages (from aiohttp<4.0.0,>=3.8.3->langchain_community) (1.11.1)\n",
      "Requirement already satisfied: async-timeout<5.0,>=4.0 in /home/jiyoon/miniconda3/envs/financial_info/lib/python3.9/site-packages (from aiohttp<4.0.0,>=3.8.3->langchain_community) (4.0.3)\n",
      "Requirement already satisfied: marshmallow<4.0.0,>=3.18.0 in /home/jiyoon/miniconda3/envs/financial_info/lib/python3.9/site-packages (from dataclasses-json<0.7,>=0.5.7->langchain_community) (3.22.0)\n",
      "Requirement already satisfied: typing-inspect<1,>=0.4.0 in /home/jiyoon/miniconda3/envs/financial_info/lib/python3.9/site-packages (from dataclasses-json<0.7,>=0.5.7->langchain_community) (0.9.0)\n",
      "Requirement already satisfied: langchain-text-splitters<0.3.0,>=0.2.0 in /home/jiyoon/miniconda3/envs/financial_info/lib/python3.9/site-packages (from langchain<0.3.0,>=0.2.16->langchain_community) (0.2.4)\n",
      "Requirement already satisfied: pydantic<3,>=1 in /home/jiyoon/miniconda3/envs/financial_info/lib/python3.9/site-packages (from langchain<0.3.0,>=0.2.16->langchain_community) (2.9.1)\n",
      "Requirement already satisfied: jsonpatch<2.0,>=1.33 in /home/jiyoon/miniconda3/envs/financial_info/lib/python3.9/site-packages (from langchain-core<0.3.0,>=0.2.38->langchain_community) (1.33)\n",
      "Requirement already satisfied: packaging<25,>=23.2 in /home/jiyoon/miniconda3/envs/financial_info/lib/python3.9/site-packages (from langchain-core<0.3.0,>=0.2.38->langchain_community) (24.1)\n",
      "Requirement already satisfied: typing-extensions>=4.7 in /home/jiyoon/miniconda3/envs/financial_info/lib/python3.9/site-packages (from langchain-core<0.3.0,>=0.2.38->langchain_community) (4.11.0)\n",
      "Requirement already satisfied: httpx<1,>=0.23.0 in /home/jiyoon/miniconda3/envs/financial_info/lib/python3.9/site-packages (from langsmith<0.2.0,>=0.1.0->langchain_community) (0.27.0)\n",
      "Requirement already satisfied: orjson<4.0.0,>=3.9.14 in /home/jiyoon/miniconda3/envs/financial_info/lib/python3.9/site-packages (from langsmith<0.2.0,>=0.1.0->langchain_community) (3.10.7)\n",
      "Requirement already satisfied: charset-normalizer<4,>=2 in /home/jiyoon/miniconda3/envs/financial_info/lib/python3.9/site-packages (from requests<3,>=2->langchain_community) (3.3.2)\n",
      "Requirement already satisfied: idna<4,>=2.5 in /home/jiyoon/miniconda3/envs/financial_info/lib/python3.9/site-packages (from requests<3,>=2->langchain_community) (3.7)\n",
      "Requirement already satisfied: urllib3<3,>=1.21.1 in /home/jiyoon/miniconda3/envs/financial_info/lib/python3.9/site-packages (from requests<3,>=2->langchain_community) (2.2.2)\n",
      "Requirement already satisfied: certifi>=2017.4.17 in /home/jiyoon/miniconda3/envs/financial_info/lib/python3.9/site-packages (from requests<3,>=2->langchain_community) (2024.8.30)\n",
      "Requirement already satisfied: greenlet!=0.4.17 in /home/jiyoon/miniconda3/envs/financial_info/lib/python3.9/site-packages (from SQLAlchemy<3,>=1.4->langchain_community) (3.1.0)\n",
      "Requirement already satisfied: anyio in /home/jiyoon/miniconda3/envs/financial_info/lib/python3.9/site-packages (from httpx<1,>=0.23.0->langsmith<0.2.0,>=0.1.0->langchain_community) (4.2.0)\n",
      "Requirement already satisfied: httpcore==1.* in /home/jiyoon/miniconda3/envs/financial_info/lib/python3.9/site-packages (from httpx<1,>=0.23.0->langsmith<0.2.0,>=0.1.0->langchain_community) (1.0.2)\n",
      "Requirement already satisfied: sniffio in /home/jiyoon/miniconda3/envs/financial_info/lib/python3.9/site-packages (from httpx<1,>=0.23.0->langsmith<0.2.0,>=0.1.0->langchain_community) (1.3.0)\n",
      "Requirement already satisfied: h11<0.15,>=0.13 in /home/jiyoon/miniconda3/envs/financial_info/lib/python3.9/site-packages (from httpcore==1.*->httpx<1,>=0.23.0->langsmith<0.2.0,>=0.1.0->langchain_community) (0.14.0)\n",
      "Requirement already satisfied: jsonpointer>=1.9 in /home/jiyoon/miniconda3/envs/financial_info/lib/python3.9/site-packages (from jsonpatch<2.0,>=1.33->langchain-core<0.3.0,>=0.2.38->langchain_community) (3.0.0)\n",
      "Requirement already satisfied: annotated-types>=0.6.0 in /home/jiyoon/miniconda3/envs/financial_info/lib/python3.9/site-packages (from pydantic<3,>=1->langchain<0.3.0,>=0.2.16->langchain_community) (0.7.0)\n",
      "Requirement already satisfied: pydantic-core==2.23.3 in /home/jiyoon/miniconda3/envs/financial_info/lib/python3.9/site-packages (from pydantic<3,>=1->langchain<0.3.0,>=0.2.16->langchain_community) (2.23.3)\n",
      "Requirement already satisfied: mypy-extensions>=0.3.0 in /home/jiyoon/miniconda3/envs/financial_info/lib/python3.9/site-packages (from typing-inspect<1,>=0.4.0->dataclasses-json<0.7,>=0.5.7->langchain_community) (1.0.0)\n",
      "Requirement already satisfied: exceptiongroup>=1.0.2 in /home/jiyoon/miniconda3/envs/financial_info/lib/python3.9/site-packages (from anyio->httpx<1,>=0.23.0->langsmith<0.2.0,>=0.1.0->langchain_community) (1.2.0)\n",
      "Requirement already satisfied: PyMuPDF in /home/jiyoon/miniconda3/envs/financial_info/lib/python3.9/site-packages (1.24.10)\n",
      "Requirement already satisfied: PyMuPDFb==1.24.10 in /home/jiyoon/miniconda3/envs/financial_info/lib/python3.9/site-packages (from PyMuPDF) (1.24.10)\n",
      "Requirement already satisfied: sentence-transformers in /home/jiyoon/miniconda3/envs/financial_info/lib/python3.9/site-packages (3.1.0)\n",
      "Requirement already satisfied: transformers<5.0.0,>=4.38.0 in /home/jiyoon/miniconda3/envs/financial_info/lib/python3.9/site-packages (from sentence-transformers) (4.46.1)\n",
      "Requirement already satisfied: tqdm in /home/jiyoon/miniconda3/envs/financial_info/lib/python3.9/site-packages (from sentence-transformers) (4.66.5)\n",
      "Requirement already satisfied: torch>=1.11.0 in /home/jiyoon/miniconda3/envs/financial_info/lib/python3.9/site-packages (from sentence-transformers) (2.4.1)\n",
      "Requirement already satisfied: numpy<2.0.0 in /home/jiyoon/miniconda3/envs/financial_info/lib/python3.9/site-packages (from sentence-transformers) (1.26.4)\n",
      "Requirement already satisfied: scikit-learn in /home/jiyoon/miniconda3/envs/financial_info/lib/python3.9/site-packages (from sentence-transformers) (1.5.2)\n",
      "Requirement already satisfied: scipy in /home/jiyoon/miniconda3/envs/financial_info/lib/python3.9/site-packages (from sentence-transformers) (1.13.1)\n",
      "Requirement already satisfied: huggingface-hub>=0.19.3 in /home/jiyoon/miniconda3/envs/financial_info/lib/python3.9/site-packages (from sentence-transformers) (0.24.6)\n",
      "Requirement already satisfied: Pillow in /home/jiyoon/miniconda3/envs/financial_info/lib/python3.9/site-packages (from sentence-transformers) (10.4.0)\n",
      "Requirement already satisfied: filelock in /home/jiyoon/miniconda3/envs/financial_info/lib/python3.9/site-packages (from huggingface-hub>=0.19.3->sentence-transformers) (3.13.1)\n",
      "Requirement already satisfied: fsspec>=2023.5.0 in /home/jiyoon/miniconda3/envs/financial_info/lib/python3.9/site-packages (from huggingface-hub>=0.19.3->sentence-transformers) (2024.6.1)\n",
      "Requirement already satisfied: packaging>=20.9 in /home/jiyoon/miniconda3/envs/financial_info/lib/python3.9/site-packages (from huggingface-hub>=0.19.3->sentence-transformers) (24.1)\n",
      "Requirement already satisfied: pyyaml>=5.1 in /home/jiyoon/miniconda3/envs/financial_info/lib/python3.9/site-packages (from huggingface-hub>=0.19.3->sentence-transformers) (6.0.1)\n",
      "Requirement already satisfied: requests in /home/jiyoon/miniconda3/envs/financial_info/lib/python3.9/site-packages (from huggingface-hub>=0.19.3->sentence-transformers) (2.32.3)\n",
      "Requirement already satisfied: typing-extensions>=3.7.4.3 in /home/jiyoon/miniconda3/envs/financial_info/lib/python3.9/site-packages (from huggingface-hub>=0.19.3->sentence-transformers) (4.11.0)\n",
      "Requirement already satisfied: sympy in /home/jiyoon/miniconda3/envs/financial_info/lib/python3.9/site-packages (from torch>=1.11.0->sentence-transformers) (1.13.2)\n",
      "Requirement already satisfied: networkx in /home/jiyoon/miniconda3/envs/financial_info/lib/python3.9/site-packages (from torch>=1.11.0->sentence-transformers) (3.2.1)\n",
      "Requirement already satisfied: jinja2 in /home/jiyoon/miniconda3/envs/financial_info/lib/python3.9/site-packages (from torch>=1.11.0->sentence-transformers) (3.1.4)\n",
      "Requirement already satisfied: regex!=2019.12.17 in /home/jiyoon/miniconda3/envs/financial_info/lib/python3.9/site-packages (from transformers<5.0.0,>=4.38.0->sentence-transformers) (2024.9.11)\n",
      "Requirement already satisfied: safetensors>=0.4.1 in /home/jiyoon/miniconda3/envs/financial_info/lib/python3.9/site-packages (from transformers<5.0.0,>=4.38.0->sentence-transformers) (0.4.5)\n",
      "Requirement already satisfied: tokenizers<0.21,>=0.20 in /home/jiyoon/miniconda3/envs/financial_info/lib/python3.9/site-packages (from transformers<5.0.0,>=4.38.0->sentence-transformers) (0.20.1)\n",
      "Requirement already satisfied: joblib>=1.2.0 in /home/jiyoon/miniconda3/envs/financial_info/lib/python3.9/site-packages (from scikit-learn->sentence-transformers) (1.4.2)\n",
      "Requirement already satisfied: threadpoolctl>=3.1.0 in /home/jiyoon/miniconda3/envs/financial_info/lib/python3.9/site-packages (from scikit-learn->sentence-transformers) (3.5.0)\n",
      "Requirement already satisfied: MarkupSafe>=2.0 in /home/jiyoon/miniconda3/envs/financial_info/lib/python3.9/site-packages (from jinja2->torch>=1.11.0->sentence-transformers) (2.1.3)\n",
      "Requirement already satisfied: charset-normalizer<4,>=2 in /home/jiyoon/miniconda3/envs/financial_info/lib/python3.9/site-packages (from requests->huggingface-hub>=0.19.3->sentence-transformers) (3.3.2)\n",
      "Requirement already satisfied: idna<4,>=2.5 in /home/jiyoon/miniconda3/envs/financial_info/lib/python3.9/site-packages (from requests->huggingface-hub>=0.19.3->sentence-transformers) (3.7)\n",
      "Requirement already satisfied: urllib3<3,>=1.21.1 in /home/jiyoon/miniconda3/envs/financial_info/lib/python3.9/site-packages (from requests->huggingface-hub>=0.19.3->sentence-transformers) (2.2.2)\n",
      "Requirement already satisfied: certifi>=2017.4.17 in /home/jiyoon/miniconda3/envs/financial_info/lib/python3.9/site-packages (from requests->huggingface-hub>=0.19.3->sentence-transformers) (2024.8.30)\n",
      "Requirement already satisfied: mpmath<1.4,>=1.1.0 in /home/jiyoon/miniconda3/envs/financial_info/lib/python3.9/site-packages (from sympy->torch>=1.11.0->sentence-transformers) (1.3.0)\n",
      "Requirement already satisfied: faiss-cpu in /home/jiyoon/miniconda3/envs/financial_info/lib/python3.9/site-packages (1.8.0.post1)\n",
      "Requirement already satisfied: numpy<2.0,>=1.0 in /home/jiyoon/miniconda3/envs/financial_info/lib/python3.9/site-packages (from faiss-cpu) (1.26.4)\n",
      "Requirement already satisfied: packaging in /home/jiyoon/miniconda3/envs/financial_info/lib/python3.9/site-packages (from faiss-cpu) (24.1)\n"
     ]
    }
   ],
   "source": [
    "!pip install accelerate\n",
    "!pip install -i https://pypi.org/simple/ bitsandbytes\n",
    "!pip install transformers[torch] -U\n",
    "\n",
    "!pip install datasets\n",
    "!pip install langchain\n",
    "!pip install langchain_community\n",
    "!pip install PyMuPDF\n",
    "!pip install sentence-transformers\n",
    "!pip install faiss-cpu"
   ]
  },
  {
   "cell_type": "code",
   "execution_count": 3,
   "metadata": {},
   "outputs": [
    {
     "name": "stdout",
     "output_type": "stream",
     "text": [
      "Requirement already satisfied: peft in /home/jiyoon/miniconda3/envs/financial_info/lib/python3.9/site-packages (0.12.0)\n",
      "Requirement already satisfied: numpy>=1.17 in /home/jiyoon/miniconda3/envs/financial_info/lib/python3.9/site-packages (from peft) (1.26.4)\n",
      "Requirement already satisfied: packaging>=20.0 in /home/jiyoon/miniconda3/envs/financial_info/lib/python3.9/site-packages (from peft) (24.1)\n",
      "Requirement already satisfied: psutil in /home/jiyoon/miniconda3/envs/financial_info/lib/python3.9/site-packages (from peft) (5.9.0)\n",
      "Requirement already satisfied: pyyaml in /home/jiyoon/miniconda3/envs/financial_info/lib/python3.9/site-packages (from peft) (6.0.1)\n",
      "Requirement already satisfied: torch>=1.13.0 in /home/jiyoon/miniconda3/envs/financial_info/lib/python3.9/site-packages (from peft) (2.4.1)\n",
      "Requirement already satisfied: transformers in /home/jiyoon/miniconda3/envs/financial_info/lib/python3.9/site-packages (from peft) (4.46.1)\n",
      "Requirement already satisfied: tqdm in /home/jiyoon/miniconda3/envs/financial_info/lib/python3.9/site-packages (from peft) (4.66.5)\n",
      "Requirement already satisfied: accelerate>=0.21.0 in /home/jiyoon/miniconda3/envs/financial_info/lib/python3.9/site-packages (from peft) (0.34.2)\n",
      "Requirement already satisfied: safetensors in /home/jiyoon/miniconda3/envs/financial_info/lib/python3.9/site-packages (from peft) (0.4.5)\n",
      "Requirement already satisfied: huggingface-hub>=0.17.0 in /home/jiyoon/miniconda3/envs/financial_info/lib/python3.9/site-packages (from peft) (0.24.6)\n",
      "Requirement already satisfied: filelock in /home/jiyoon/miniconda3/envs/financial_info/lib/python3.9/site-packages (from huggingface-hub>=0.17.0->peft) (3.13.1)\n",
      "Requirement already satisfied: fsspec>=2023.5.0 in /home/jiyoon/miniconda3/envs/financial_info/lib/python3.9/site-packages (from huggingface-hub>=0.17.0->peft) (2024.6.1)\n",
      "Requirement already satisfied: requests in /home/jiyoon/miniconda3/envs/financial_info/lib/python3.9/site-packages (from huggingface-hub>=0.17.0->peft) (2.32.3)\n",
      "Requirement already satisfied: typing-extensions>=3.7.4.3 in /home/jiyoon/miniconda3/envs/financial_info/lib/python3.9/site-packages (from huggingface-hub>=0.17.0->peft) (4.11.0)\n",
      "Requirement already satisfied: sympy in /home/jiyoon/miniconda3/envs/financial_info/lib/python3.9/site-packages (from torch>=1.13.0->peft) (1.13.2)\n",
      "Requirement already satisfied: networkx in /home/jiyoon/miniconda3/envs/financial_info/lib/python3.9/site-packages (from torch>=1.13.0->peft) (3.2.1)\n",
      "Requirement already satisfied: jinja2 in /home/jiyoon/miniconda3/envs/financial_info/lib/python3.9/site-packages (from torch>=1.13.0->peft) (3.1.4)\n",
      "Requirement already satisfied: regex!=2019.12.17 in /home/jiyoon/miniconda3/envs/financial_info/lib/python3.9/site-packages (from transformers->peft) (2024.9.11)\n",
      "Requirement already satisfied: tokenizers<0.21,>=0.20 in /home/jiyoon/miniconda3/envs/financial_info/lib/python3.9/site-packages (from transformers->peft) (0.20.1)\n",
      "Requirement already satisfied: MarkupSafe>=2.0 in /home/jiyoon/miniconda3/envs/financial_info/lib/python3.9/site-packages (from jinja2->torch>=1.13.0->peft) (2.1.3)\n",
      "Requirement already satisfied: charset-normalizer<4,>=2 in /home/jiyoon/miniconda3/envs/financial_info/lib/python3.9/site-packages (from requests->huggingface-hub>=0.17.0->peft) (3.3.2)\n",
      "Requirement already satisfied: idna<4,>=2.5 in /home/jiyoon/miniconda3/envs/financial_info/lib/python3.9/site-packages (from requests->huggingface-hub>=0.17.0->peft) (3.7)\n",
      "Requirement already satisfied: urllib3<3,>=1.21.1 in /home/jiyoon/miniconda3/envs/financial_info/lib/python3.9/site-packages (from requests->huggingface-hub>=0.17.0->peft) (2.2.2)\n",
      "Requirement already satisfied: certifi>=2017.4.17 in /home/jiyoon/miniconda3/envs/financial_info/lib/python3.9/site-packages (from requests->huggingface-hub>=0.17.0->peft) (2024.8.30)\n",
      "Requirement already satisfied: mpmath<1.4,>=1.1.0 in /home/jiyoon/miniconda3/envs/financial_info/lib/python3.9/site-packages (from sympy->torch>=1.13.0->peft) (1.3.0)\n"
     ]
    }
   ],
   "source": [
    "!pip install peft"
   ]
  },
  {
   "cell_type": "code",
   "execution_count": 4,
   "metadata": {},
   "outputs": [
    {
     "name": "stdout",
     "output_type": "stream",
     "text": [
      "\u001b[31mERROR: Could not find a version that satisfies the requirement pickle (from versions: none)\u001b[0m\u001b[31m\n",
      "\u001b[0m\u001b[31mERROR: No matching distribution found for pickle\u001b[0m\u001b[31m\n",
      "\u001b[0m"
     ]
    }
   ],
   "source": [
    "!pip install pickle"
   ]
  },
  {
   "cell_type": "code",
   "execution_count": 5,
   "metadata": {},
   "outputs": [],
   "source": [
    "import os\n",
    "import unicodedata\n",
    "\n",
    "import torch\n",
    "import pandas as pd\n",
    "from tqdm import tqdm\n",
    "import fitz  # PyMuPDF\n",
    "\n",
    "from transformers import (\n",
    "    AutoTokenizer,\n",
    "    AutoModelForCausalLM,\n",
    "    pipeline,\n",
    "    BitsAndBytesConfig,\n",
    "    Gemma2ForCausalLM\n",
    ")\n",
    "from accelerate import Accelerator\n",
    "\n",
    "# Langchain 관련\n",
    "from langchain.llms import HuggingFacePipeline\n",
    "from langchain.embeddings import HuggingFaceEmbeddings\n",
    "from langchain.vectorstores import FAISS\n",
    "from langchain.schema import Document\n",
    "from langchain.text_splitter import RecursiveCharacterTextSplitter\n",
    "from langchain.prompts import PromptTemplate\n",
    "from langchain.schema.runnable import RunnablePassthrough\n",
    "from langchain.schema.output_parser import StrOutputParser\n",
    "\n",
    "from peft import PeftModel\n",
    "import faiss\n",
    "import pickle"
   ]
  },
  {
   "cell_type": "code",
   "execution_count": 6,
   "metadata": {},
   "outputs": [],
   "source": [
    "os.environ[\"PYTORCH_CUDA_ALLOC_CONF\"] = \"expandable_segments:True\"\n",
    "torch.cuda.empty_cache()\n"
   ]
  },
  {
   "cell_type": "code",
   "execution_count": 7,
   "metadata": {},
   "outputs": [
    {
     "name": "stdout",
     "output_type": "stream",
     "text": [
      "Wed Oct 30 21:12:33 2024       \n",
      "+-----------------------------------------------------------------------------+\n",
      "| NVIDIA-SMI 525.105.17   Driver Version: 525.105.17   CUDA Version: 12.0     |\n",
      "|-------------------------------+----------------------+----------------------+\n",
      "| GPU  Name        Persistence-M| Bus-Id        Disp.A | Volatile Uncorr. ECC |\n",
      "| Fan  Temp  Perf  Pwr:Usage/Cap|         Memory-Usage | GPU-Util  Compute M. |\n",
      "|                               |                      |               MIG M. |\n",
      "|===============================+======================+======================|\n",
      "|   0  NVIDIA RTX 6000...  Off  | 00000000:17:00.0 Off |                  Off |\n",
      "| 30%   37C    P8    26W / 300W |  12922MiB / 49140MiB |      0%      Default |\n",
      "|                               |                      |                  N/A |\n",
      "+-------------------------------+----------------------+----------------------+\n",
      "                                                                               \n",
      "+-----------------------------------------------------------------------------+\n",
      "| Processes:                                                                  |\n",
      "|  GPU   GI   CI        PID   Type   Process name                  GPU Memory |\n",
      "|        ID   ID                                                   Usage      |\n",
      "|=============================================================================|\n",
      "|    0   N/A  N/A      1619      G   /usr/lib/xorg/Xorg                 82MiB |\n",
      "|    0   N/A  N/A      1880      G   /usr/bin/gnome-shell               66MiB |\n",
      "|    0   N/A  N/A    796160      C   python3                         11088MiB |\n",
      "|    0   N/A  N/A    796479      C   ...vs/ocean-data/bin/python3     1624MiB |\n",
      "|    0   N/A  N/A    911422      G   gnome-control-center               31MiB |\n",
      "+-----------------------------------------------------------------------------+\n"
     ]
    }
   ],
   "source": [
    "!nvidia-smi"
   ]
  },
  {
   "cell_type": "code",
   "execution_count": 8,
   "metadata": {},
   "outputs": [],
   "source": [
    "def process_pdf(file_path, chunk_size=512, chunk_overlap=32):\n",
    "    \"\"\"PDF 텍스트 추출 후 chunk 단위로 나누기\"\"\"\n",
    "    # PDF 파일 열기\n",
    "    doc = fitz.open(file_path)\n",
    "    text = ''\n",
    "    # 모든 페이지의 텍스트 추출\n",
    "    for page in doc:\n",
    "        breakpoint()\n",
    "        text += page.get_text()\n",
    "    # 텍스트를 chunk로 분할\n",
    "    splitter = RecursiveCharacterTextSplitter(\n",
    "        chunk_size=chunk_size,\n",
    "        chunk_overlap=chunk_overlap\n",
    "    )\n",
    "    chunk_temp = splitter.split_text(text)\n",
    "    # Document 객체 리스트 생성\n",
    "    chunks = [Document(page_content=t) for t in chunk_temp]\n",
    "    return chunks\n",
    "\n",
    "\n",
    "def create_vector_db(chunks, model_path=\"intfloat/multilingual-e5-base\"):\n",
    "    \"\"\"\n",
    "    Faiss DB: \n",
    "    Embedding 작업(인코딩을 통해 vector들을 하나의 vector space에 투영)이 끝난 뒤,\n",
    "    vector space 내의 벡터끼리 유사도 기반 검색 서비스를 더 빠르게 지원\n",
    "    벡터의 유사도 측정, 클러스터링에 효율적인 라이브러리\n",
    "\n",
    "    전통적인 코사인 유사도 < Faiss DB(gpu 지원)\n",
    "    \"\"\"\n",
    "    \n",
    "    \"\"\"FAISS DB 생성\"\"\"\n",
    "    # 임베딩 모델 설정\n",
    "    model_kwargs = {'device': 'cuda'}\n",
    "    encode_kwargs = {'normalize_embeddings': True}\n",
    "    embeddings = HuggingFaceEmbeddings(\n",
    "        model_name=model_path,\n",
    "        model_kwargs=model_kwargs,\n",
    "        encode_kwargs=encode_kwargs\n",
    "    )\n",
    "    # FAISS DB 생성 및 반환\n",
    "    db = FAISS.from_documents(chunks, embedding=embeddings)\n",
    "    return db\n",
    "\n",
    "\n",
    "\n",
    "\n",
    "def normalize_path(path):\n",
    "    \"\"\"경로 유니코드 정규화\"\"\"\n",
    "    return unicodedata.normalize('NFC', path)\n",
    "\n",
    "\n",
    "def process_pdfs_from_dataframe(base_directory):\n",
    "    \"\"\"딕셔너리에 pdf명을 키로해서 DB, retriever 저장\"\"\"\n",
    "    pdf_databases = {}\n",
    "    pdf_files = [file for file in os.listdir(base_directory) if file.endswith('.pdf')]\n",
    "\n",
    "    \n",
    "    for path in tqdm(pdf_files, desc=\"Processing PDFs\"):\n",
    "        # 경로 정규화 및 절대 경로 생성\n",
    "        normalized_path = normalize_path(path)\n",
    "        full_path = os.path.normpath(os.path.join(base_directory, normalized_path.lstrip('./'))) if not os.path.isabs(normalized_path) else normalized_path\n",
    "\n",
    "        \n",
    "        pdf_title = os.path.splitext(os.path.basename(full_path))[0]\n",
    "        print(f\"Processing {pdf_title}...\")\n",
    "        \n",
    "        # PDF 처리 및 벡터 DB 생성\n",
    "        chunks = process_pdf(full_path)\n",
    "        \n",
    "        # 빈 chunks 처리\n",
    "        if not chunks:\n",
    "            print(f\"Skipping {pdf_title} due to empty content.\")\n",
    "            continue\n",
    "        \n",
    "        db = create_vector_db(chunks)\n",
    "        \n",
    "        # Retriever 생성\n",
    "        retriever = db.as_retriever(search_type=\"mmr\", \n",
    "                                    search_kwargs={'k': 3, 'fetch_k': 8})\n",
    "        \n",
    "\n",
    "        faiss_directory = \"./faiss/\" + base_directory.split('/')[-1] + \"/\"\n",
    "        faiss.write_index(db.index, faiss_directory + pdf_title + \"_faiss_db.index\")\n",
    "\n",
    "        # 필요한 매핑 객체를 추출하여 저장\n",
    "        with open(faiss_directory + pdf_title + \"_index_to_docstore_id.pkl\", \"wb\") as f:\n",
    "            pickle.dump(db.index_to_docstore_id, f)\n",
    "\n",
    "        with open(faiss_directory + pdf_title + \"_docstore.pkl\", \"wb\") as f:\n",
    "            pickle.dump(db.docstore, f)\n",
    "        \n",
    "        # 결과 저장\n",
    "        pdf_databases[pdf_title] = {\n",
    "                'db': db,\n",
    "                'retriever': retriever\n",
    "        }\n",
    "    return pdf_databases\n",
    "\n"
   ]
  },
  {
   "cell_type": "code",
   "execution_count": 9,
   "metadata": {},
   "outputs": [
    {
     "name": "stderr",
     "output_type": "stream",
     "text": [
      "Processing PDFs:   0%|          | 0/11 [00:00<?, ?it/s]"
     ]
    },
    {
     "name": "stdout",
     "output_type": "stream",
     "text": [
      "Processing 숭어...\n"
     ]
    },
    {
     "name": "stderr",
     "output_type": "stream",
     "text": [
      "/tmp/ipykernel_797068/3492978855.py:35: LangChainDeprecationWarning: The class `HuggingFaceEmbeddings` was deprecated in LangChain 0.2.2 and will be removed in 1.0. An updated version of the class exists in the langchain-huggingface package and should be used instead. To use it run `pip install -U langchain-huggingface` and import as `from langchain_huggingface import HuggingFaceEmbeddings`.\n",
      "  embeddings = HuggingFaceEmbeddings(\n",
      "Processing PDFs:   9%|▉         | 1/11 [00:06<01:01,  6.17s/it]"
     ]
    },
    {
     "name": "stdout",
     "output_type": "stream",
     "text": [
      "Processing 돔류...\n"
     ]
    },
    {
     "name": "stderr",
     "output_type": "stream",
     "text": [
      "Processing PDFs:  18%|█▊        | 2/11 [00:10<00:47,  5.33s/it]"
     ]
    },
    {
     "name": "stdout",
     "output_type": "stream",
     "text": [
      "Processing 조피볼락...\n"
     ]
    },
    {
     "name": "stderr",
     "output_type": "stream",
     "text": [
      "Processing PDFs:  27%|██▋       | 3/11 [00:16<00:44,  5.53s/it]"
     ]
    },
    {
     "name": "stdout",
     "output_type": "stream",
     "text": [
      "Processing 비단잉어...\n"
     ]
    },
    {
     "name": "stderr",
     "output_type": "stream",
     "text": [
      "Processing PDFs:  36%|███▋      | 4/11 [00:20<00:33,  4.75s/it]"
     ]
    },
    {
     "name": "stdout",
     "output_type": "stream",
     "text": [
      "Processing 무지개송어...\n"
     ]
    },
    {
     "name": "stderr",
     "output_type": "stream",
     "text": [
      "Processing PDFs:  45%|████▌     | 5/11 [00:23<00:26,  4.34s/it]"
     ]
    },
    {
     "name": "stdout",
     "output_type": "stream",
     "text": [
      "Processing 향어...\n"
     ]
    },
    {
     "name": "stderr",
     "output_type": "stream",
     "text": [
      "Processing PDFs:  55%|█████▍    | 6/11 [00:28<00:22,  4.57s/it]"
     ]
    },
    {
     "name": "stdout",
     "output_type": "stream",
     "text": [
      "Processing 넙치...\n"
     ]
    },
    {
     "name": "stderr",
     "output_type": "stream",
     "text": [
      "Processing PDFs:  64%|██████▎   | 7/11 [00:33<00:18,  4.67s/it]"
     ]
    },
    {
     "name": "stdout",
     "output_type": "stream",
     "text": [
      "Processing 황복...\n"
     ]
    },
    {
     "name": "stderr",
     "output_type": "stream",
     "text": [
      "Processing PDFs:  73%|███████▎  | 8/11 [00:38<00:13,  4.64s/it]"
     ]
    },
    {
     "name": "stdout",
     "output_type": "stream",
     "text": [
      "Processing 메기...\n"
     ]
    },
    {
     "name": "stderr",
     "output_type": "stream",
     "text": [
      "Processing PDFs:  82%|████████▏ | 9/11 [00:42<00:09,  4.61s/it]"
     ]
    },
    {
     "name": "stdout",
     "output_type": "stream",
     "text": [
      "Processing 강도다리...\n"
     ]
    },
    {
     "name": "stderr",
     "output_type": "stream",
     "text": [
      "Processing PDFs:  91%|█████████ | 10/11 [00:46<00:04,  4.45s/it]"
     ]
    },
    {
     "name": "stdout",
     "output_type": "stream",
     "text": [
      "Processing 뱀장어...\n"
     ]
    },
    {
     "name": "stderr",
     "output_type": "stream",
     "text": [
      "Processing PDFs: 100%|██████████| 11/11 [00:52<00:00,  4.80s/it]\n"
     ]
    }
   ],
   "source": [
    "fish_data_directory = './data/fish' # Your Base Directory\n",
    "# df = pd.read_csv(data_directory + '/test.csv')\n",
    "fish_pdf_databases = process_pdfs_from_dataframe(fish_data_directory)"
   ]
  },
  {
   "cell_type": "code",
   "execution_count": 10,
   "metadata": {},
   "outputs": [
    {
     "name": "stderr",
     "output_type": "stream",
     "text": [
      "Processing PDFs:   0%|          | 0/3 [00:00<?, ?it/s]"
     ]
    },
    {
     "name": "stdout",
     "output_type": "stream",
     "text": [
      "Processing 가리비...\n"
     ]
    },
    {
     "name": "stderr",
     "output_type": "stream",
     "text": [
      "Processing PDFs:  33%|███▎      | 1/3 [00:04<00:09,  4.98s/it]"
     ]
    },
    {
     "name": "stdout",
     "output_type": "stream",
     "text": [
      "Processing 전복...\n"
     ]
    },
    {
     "name": "stderr",
     "output_type": "stream",
     "text": [
      "Processing PDFs:  67%|██████▋   | 2/3 [00:08<00:04,  4.28s/it]"
     ]
    },
    {
     "name": "stdout",
     "output_type": "stream",
     "text": [
      "Processing 참굴...\n"
     ]
    },
    {
     "name": "stderr",
     "output_type": "stream",
     "text": [
      "Processing PDFs: 100%|██████████| 3/3 [00:13<00:00,  4.33s/it]\n"
     ]
    },
    {
     "data": {
      "text/plain": [
       "{'가리비': {'db': <langchain_community.vectorstores.faiss.FAISS at 0x7f4b3e9d9100>,\n",
       "  'retriever': VectorStoreRetriever(tags=['FAISS', 'HuggingFaceEmbeddings'], vectorstore=<langchain_community.vectorstores.faiss.FAISS object at 0x7f4b3e9d9100>, search_type='mmr', search_kwargs={'k': 3, 'fetch_k': 8})},\n",
       " '전복': {'db': <langchain_community.vectorstores.faiss.FAISS at 0x7f4b3e699880>,\n",
       "  'retriever': VectorStoreRetriever(tags=['FAISS', 'HuggingFaceEmbeddings'], vectorstore=<langchain_community.vectorstores.faiss.FAISS object at 0x7f4b3e699880>, search_type='mmr', search_kwargs={'k': 3, 'fetch_k': 8})},\n",
       " '참굴': {'db': <langchain_community.vectorstores.faiss.FAISS at 0x7f4add122070>,\n",
       "  'retriever': VectorStoreRetriever(tags=['FAISS', 'HuggingFaceEmbeddings'], vectorstore=<langchain_community.vectorstores.faiss.FAISS object at 0x7f4add122070>, search_type='mmr', search_kwargs={'k': 3, 'fetch_k': 8})}}"
      ]
     },
     "execution_count": 10,
     "metadata": {},
     "output_type": "execute_result"
    }
   ],
   "source": [
    "shellfish_data_directory = './data/shellfish' # Your Base Directory\n",
    "# df = pd.read_csv(data_directory + '/test.csv')\n",
    "shellfish_pdf_databases = process_pdfs_from_dataframe(shellfish_data_directory)\n",
    "shellfish_pdf_databases"
   ]
  },
  {
   "cell_type": "code",
   "execution_count": 11,
   "metadata": {},
   "outputs": [
    {
     "name": "stderr",
     "output_type": "stream",
     "text": [
      "Processing PDFs:   0%|          | 0/6 [00:00<?, ?it/s]"
     ]
    },
    {
     "name": "stdout",
     "output_type": "stream",
     "text": [
      "Processing 미역...\n"
     ]
    },
    {
     "name": "stderr",
     "output_type": "stream",
     "text": [
      "Processing PDFs:  17%|█▋        | 1/6 [00:04<00:21,  4.36s/it]"
     ]
    },
    {
     "name": "stdout",
     "output_type": "stream",
     "text": [
      "Processing 김...\n"
     ]
    },
    {
     "name": "stderr",
     "output_type": "stream",
     "text": [
      "Processing PDFs:  33%|███▎      | 2/6 [00:10<00:21,  5.28s/it]"
     ]
    },
    {
     "name": "stdout",
     "output_type": "stream",
     "text": [
      "Processing 곰피...\n"
     ]
    },
    {
     "name": "stderr",
     "output_type": "stream",
     "text": [
      "Processing PDFs:  50%|█████     | 3/6 [00:13<00:13,  4.52s/it]"
     ]
    },
    {
     "name": "stdout",
     "output_type": "stream",
     "text": [
      "Processing 모자반...\n"
     ]
    },
    {
     "name": "stderr",
     "output_type": "stream",
     "text": [
      "Processing PDFs:  67%|██████▋   | 4/6 [00:19<00:09,  4.83s/it]"
     ]
    },
    {
     "name": "stdout",
     "output_type": "stream",
     "text": [
      "Processing 청각...\n"
     ]
    },
    {
     "name": "stderr",
     "output_type": "stream",
     "text": [
      "Processing PDFs:  83%|████████▎ | 5/6 [00:22<00:04,  4.25s/it]"
     ]
    },
    {
     "name": "stdout",
     "output_type": "stream",
     "text": [
      "Processing 넓미역...\n"
     ]
    },
    {
     "name": "stderr",
     "output_type": "stream",
     "text": [
      "Processing PDFs: 100%|██████████| 6/6 [00:25<00:00,  4.32s/it]\n"
     ]
    },
    {
     "data": {
      "text/plain": [
       "{'미역': {'db': <langchain_community.vectorstores.faiss.FAISS at 0x7f4b3e85e100>,\n",
       "  'retriever': VectorStoreRetriever(tags=['FAISS', 'HuggingFaceEmbeddings'], vectorstore=<langchain_community.vectorstores.faiss.FAISS object at 0x7f4b3e85e100>, search_type='mmr', search_kwargs={'k': 3, 'fetch_k': 8})},\n",
       " '김': {'db': <langchain_community.vectorstores.faiss.FAISS at 0x7f4c6d6530a0>,\n",
       "  'retriever': VectorStoreRetriever(tags=['FAISS', 'HuggingFaceEmbeddings'], vectorstore=<langchain_community.vectorstores.faiss.FAISS object at 0x7f4c6d6530a0>, search_type='mmr', search_kwargs={'k': 3, 'fetch_k': 8})},\n",
       " '곰피': {'db': <langchain_community.vectorstores.faiss.FAISS at 0x7f4adcc0d130>,\n",
       "  'retriever': VectorStoreRetriever(tags=['FAISS', 'HuggingFaceEmbeddings'], vectorstore=<langchain_community.vectorstores.faiss.FAISS object at 0x7f4adcc0d130>, search_type='mmr', search_kwargs={'k': 3, 'fetch_k': 8})},\n",
       " '모자반': {'db': <langchain_community.vectorstores.faiss.FAISS at 0x7f4b3e5b8070>,\n",
       "  'retriever': VectorStoreRetriever(tags=['FAISS', 'HuggingFaceEmbeddings'], vectorstore=<langchain_community.vectorstores.faiss.FAISS object at 0x7f4b3e5b8070>, search_type='mmr', search_kwargs={'k': 3, 'fetch_k': 8})},\n",
       " '청각': {'db': <langchain_community.vectorstores.faiss.FAISS at 0x7f4b3e56e160>,\n",
       "  'retriever': VectorStoreRetriever(tags=['FAISS', 'HuggingFaceEmbeddings'], vectorstore=<langchain_community.vectorstores.faiss.FAISS object at 0x7f4b3e56e160>, search_type='mmr', search_kwargs={'k': 3, 'fetch_k': 8})},\n",
       " '넓미역': {'db': <langchain_community.vectorstores.faiss.FAISS at 0x7f4b3e4f1100>,\n",
       "  'retriever': VectorStoreRetriever(tags=['FAISS', 'HuggingFaceEmbeddings'], vectorstore=<langchain_community.vectorstores.faiss.FAISS object at 0x7f4b3e4f1100>, search_type='mmr', search_kwargs={'k': 3, 'fetch_k': 8})}}"
      ]
     },
     "execution_count": 11,
     "metadata": {},
     "output_type": "execute_result"
    }
   ],
   "source": [
    "seaweed_data_directory = './data/seaweed' # Your Base Directory\n",
    "# df = pd.read_csv(data_directory + '/test.csv')\n",
    "seaweed_pdf_databases = process_pdfs_from_dataframe(seaweed_data_directory)\n",
    "seaweed_pdf_databases"
   ]
  },
  {
   "cell_type": "code",
   "execution_count": 12,
   "metadata": {},
   "outputs": [
    {
     "name": "stderr",
     "output_type": "stream",
     "text": [
      "Processing PDFs:   0%|          | 0/4 [00:00<?, ?it/s]"
     ]
    },
    {
     "name": "stdout",
     "output_type": "stream",
     "text": [
      "Processing 해삼...\n"
     ]
    },
    {
     "name": "stderr",
     "output_type": "stream",
     "text": [
      "Processing PDFs:  25%|██▌       | 1/4 [00:03<00:09,  3.29s/it]"
     ]
    },
    {
     "name": "stdout",
     "output_type": "stream",
     "text": [
      "Processing 큰징거미새우...\n"
     ]
    },
    {
     "name": "stderr",
     "output_type": "stream",
     "text": [
      "Processing PDFs:  50%|█████     | 2/4 [00:06<00:06,  3.32s/it]"
     ]
    },
    {
     "name": "stdout",
     "output_type": "stream",
     "text": [
      "Processing 멍게...\n"
     ]
    },
    {
     "name": "stderr",
     "output_type": "stream",
     "text": [
      "Processing PDFs:  75%|███████▌  | 3/4 [00:10<00:03,  3.56s/it]"
     ]
    },
    {
     "name": "stdout",
     "output_type": "stream",
     "text": [
      "Processing 흰다리새우...\n"
     ]
    },
    {
     "name": "stderr",
     "output_type": "stream",
     "text": [
      "Processing PDFs: 100%|██████████| 4/4 [00:15<00:00,  3.94s/it]\n"
     ]
    },
    {
     "data": {
      "text/plain": [
       "{'해삼': {'db': <langchain_community.vectorstores.faiss.FAISS at 0x7f4b3e3f21f0>,\n",
       "  'retriever': VectorStoreRetriever(tags=['FAISS', 'HuggingFaceEmbeddings'], vectorstore=<langchain_community.vectorstores.faiss.FAISS object at 0x7f4b3e3f21f0>, search_type='mmr', search_kwargs={'k': 3, 'fetch_k': 8})},\n",
       " '큰징거미새우': {'db': <langchain_community.vectorstores.faiss.FAISS at 0x7f4b3e36f0d0>,\n",
       "  'retriever': VectorStoreRetriever(tags=['FAISS', 'HuggingFaceEmbeddings'], vectorstore=<langchain_community.vectorstores.faiss.FAISS object at 0x7f4b3e36f0d0>, search_type='mmr', search_kwargs={'k': 3, 'fetch_k': 8})},\n",
       " '멍게': {'db': <langchain_community.vectorstores.faiss.FAISS at 0x7f4adcc080d0>,\n",
       "  'retriever': VectorStoreRetriever(tags=['FAISS', 'HuggingFaceEmbeddings'], vectorstore=<langchain_community.vectorstores.faiss.FAISS object at 0x7f4adcc080d0>, search_type='mmr', search_kwargs={'k': 3, 'fetch_k': 8})},\n",
       " '흰다리새우': {'db': <langchain_community.vectorstores.faiss.FAISS at 0x7f4adc091130>,\n",
       "  'retriever': VectorStoreRetriever(tags=['FAISS', 'HuggingFaceEmbeddings'], vectorstore=<langchain_community.vectorstores.faiss.FAISS object at 0x7f4adc091130>, search_type='mmr', search_kwargs={'k': 3, 'fetch_k': 8})}}"
      ]
     },
     "execution_count": 12,
     "metadata": {},
     "output_type": "execute_result"
    }
   ],
   "source": [
    "etc_data_directory = './data/etc' # Your Base Directory\n",
    "# df = pd.read_csv(data_directory + '/test.csv')\n",
    "etc_pdf_databases = process_pdfs_from_dataframe(etc_data_directory)\n",
    "etc_pdf_databases"
   ]
  },
  {
   "cell_type": "code",
   "execution_count": 13,
   "metadata": {},
   "outputs": [
    {
     "data": {
      "text/plain": [
       "{'숭어': {'db': <langchain_community.vectorstores.faiss.FAISS at 0x7f4b4dff4610>,\n",
       "  'retriever': VectorStoreRetriever(tags=['FAISS', 'HuggingFaceEmbeddings'], vectorstore=<langchain_community.vectorstores.faiss.FAISS object at 0x7f4b4dff4610>, search_type='mmr', search_kwargs={'k': 3, 'fetch_k': 8})},\n",
       " '돔류': {'db': <langchain_community.vectorstores.faiss.FAISS at 0x7f4b4dff4fd0>,\n",
       "  'retriever': VectorStoreRetriever(tags=['FAISS', 'HuggingFaceEmbeddings'], vectorstore=<langchain_community.vectorstores.faiss.FAISS object at 0x7f4b4dff4fd0>, search_type='mmr', search_kwargs={'k': 3, 'fetch_k': 8})},\n",
       " '조피볼락': {'db': <langchain_community.vectorstores.faiss.FAISS at 0x7f4b4838a160>,\n",
       "  'retriever': VectorStoreRetriever(tags=['FAISS', 'HuggingFaceEmbeddings'], vectorstore=<langchain_community.vectorstores.faiss.FAISS object at 0x7f4b4838a160>, search_type='mmr', search_kwargs={'k': 3, 'fetch_k': 8})},\n",
       " '비단잉어': {'db': <langchain_community.vectorstores.faiss.FAISS at 0x7f4b1a309160>,\n",
       "  'retriever': VectorStoreRetriever(tags=['FAISS', 'HuggingFaceEmbeddings'], vectorstore=<langchain_community.vectorstores.faiss.FAISS object at 0x7f4b1a309160>, search_type='mmr', search_kwargs={'k': 3, 'fetch_k': 8})},\n",
       " '무지개송어': {'db': <langchain_community.vectorstores.faiss.FAISS at 0x7f4b18816220>,\n",
       "  'retriever': VectorStoreRetriever(tags=['FAISS', 'HuggingFaceEmbeddings'], vectorstore=<langchain_community.vectorstores.faiss.FAISS object at 0x7f4b18816220>, search_type='mmr', search_kwargs={'k': 3, 'fetch_k': 8})},\n",
       " '향어': {'db': <langchain_community.vectorstores.faiss.FAISS at 0x7f4b40c514f0>,\n",
       "  'retriever': VectorStoreRetriever(tags=['FAISS', 'HuggingFaceEmbeddings'], vectorstore=<langchain_community.vectorstores.faiss.FAISS object at 0x7f4b40c514f0>, search_type='mmr', search_kwargs={'k': 3, 'fetch_k': 8})},\n",
       " '넙치': {'db': <langchain_community.vectorstores.faiss.FAISS at 0x7f4b40fd2040>,\n",
       "  'retriever': VectorStoreRetriever(tags=['FAISS', 'HuggingFaceEmbeddings'], vectorstore=<langchain_community.vectorstores.faiss.FAISS object at 0x7f4b40fd2040>, search_type='mmr', search_kwargs={'k': 3, 'fetch_k': 8})},\n",
       " '황복': {'db': <langchain_community.vectorstores.faiss.FAISS at 0x7f4b183010a0>,\n",
       "  'retriever': VectorStoreRetriever(tags=['FAISS', 'HuggingFaceEmbeddings'], vectorstore=<langchain_community.vectorstores.faiss.FAISS object at 0x7f4b183010a0>, search_type='mmr', search_kwargs={'k': 3, 'fetch_k': 8})},\n",
       " '메기': {'db': <langchain_community.vectorstores.faiss.FAISS at 0x7f4b40bea1c0>,\n",
       "  'retriever': VectorStoreRetriever(tags=['FAISS', 'HuggingFaceEmbeddings'], vectorstore=<langchain_community.vectorstores.faiss.FAISS object at 0x7f4b40bea1c0>, search_type='mmr', search_kwargs={'k': 3, 'fetch_k': 8})},\n",
       " '강도다리': {'db': <langchain_community.vectorstores.faiss.FAISS at 0x7f4b40b3d160>,\n",
       "  'retriever': VectorStoreRetriever(tags=['FAISS', 'HuggingFaceEmbeddings'], vectorstore=<langchain_community.vectorstores.faiss.FAISS object at 0x7f4b40b3d160>, search_type='mmr', search_kwargs={'k': 3, 'fetch_k': 8})},\n",
       " '뱀장어': {'db': <langchain_community.vectorstores.faiss.FAISS at 0x7f4b180a2070>,\n",
       "  'retriever': VectorStoreRetriever(tags=['FAISS', 'HuggingFaceEmbeddings'], vectorstore=<langchain_community.vectorstores.faiss.FAISS object at 0x7f4b180a2070>, search_type='mmr', search_kwargs={'k': 3, 'fetch_k': 8})}}"
      ]
     },
     "execution_count": 13,
     "metadata": {},
     "output_type": "execute_result"
    }
   ],
   "source": [
    "fish_pdf_databases"
   ]
  },
  {
   "cell_type": "code",
   "execution_count": 12,
   "metadata": {},
   "outputs": [],
   "source": [
    "def setup_llm_pipeline():\n",
    "    # 4비트 양자화 설정\n",
    "    bnb_config = BitsAndBytesConfig(\n",
    "        load_in_4bit=True,\n",
    "        bnb_4bit_use_double_quant=True,\n",
    "        bnb_4bit_quant_type=\"nf4\",\n",
    "        bnb_4bit_compute_dtype=torch.bfloat16\n",
    "    )\n",
    "\n",
    "    # 모델 ID \n",
    "    model_id = \"rtzr/ko-gemma-2-9b-it\"\n",
    "\n",
    "    # 토크나이저 로드 및 설정\n",
    "    tokenizer = AutoTokenizer.from_pretrained(model_id)\n",
    "    tokenizer.use_default_system_prompt = False\n",
    "    \n",
    "\n",
    "    # 모델 로드 및 양자화 설정 적용\n",
    "    model = Gemma2ForCausalLM.from_pretrained(\n",
    "        model_id,\n",
    "        #quantization_config=bnb_config,\n",
    "        device_map=\"auto\",\n",
    "        trust_remote_code=True )\n",
    "\n",
    "#     model = PeftModel.from_pretrained(model, \"./persona/checkpoint-200\",is_trainable=True)\n",
    "\n",
    "    # HuggingFacePipeline 객체 생성\n",
    "    text_generation_pipeline = pipeline(\n",
    "        model=model,\n",
    "        tokenizer=tokenizer,\n",
    "        task=\"text-generation\",\n",
    "        #temperature=0.2,\n",
    "        return_full_text=False,\n",
    "        max_new_tokens=450,\n",
    "    )\n",
    "\n",
    "    hf = HuggingFacePipeline(pipeline=text_generation_pipeline)\n",
    "\n",
    "    return hf"
   ]
  },
  {
   "cell_type": "code",
   "execution_count": 13,
   "metadata": {},
   "outputs": [
    {
     "name": "stderr",
     "output_type": "stream",
     "text": [
      "The argument `trust_remote_code` is to be used with Auto classes. It has no effect here and is ignored.\n"
     ]
    },
    {
     "data": {
      "application/vnd.jupyter.widget-view+json": {
       "model_id": "897b8869e728432f881040058197bdcb",
       "version_major": 2,
       "version_minor": 0
      },
      "text/plain": [
       "Loading checkpoint shards:   0%|          | 0/10 [00:00<?, ?it/s]"
      ]
     },
     "metadata": {},
     "output_type": "display_data"
    },
    {
     "name": "stderr",
     "output_type": "stream",
     "text": [
      "Some parameters are on the meta device because they were offloaded to the cpu.\n",
      "/tmp/ipykernel_787669/3292157432.py:37: LangChainDeprecationWarning: The class `HuggingFacePipeline` was deprecated in LangChain 0.0.37 and will be removed in 1.0. An updated version of the class exists in the langchain-huggingface package and should be used instead. To use it run `pip install -U langchain-huggingface` and import as `from langchain_huggingface import HuggingFacePipeline`.\n",
      "  hf = HuggingFacePipeline(pipeline=text_generation_pipeline)\n"
     ]
    }
   ],
   "source": [
    "# LLM 파이프라인\n",
    "llm = setup_llm_pipeline()"
   ]
  },
  {
   "cell_type": "code",
   "execution_count": 15,
   "metadata": {},
   "outputs": [
    {
     "name": "stdout",
     "output_type": "stream",
     "text": [
      "Question: 숭어의 서식지는 어떻게 돼?\n",
      "Answer: 숭어는 적도 주변의 열대 해역을 포함한 북위 42°부터 남위 42°까지 광범위한 위도대에서 서식 가능한 광온성 어류이자 바다에서 담수까지 살 수 있는 광염성 어류이다. \n",
      "\n",
      "\n",
      "\n",
      "\n"
     ]
    }
   ],
   "source": [
    "def normalize_string(s):\n",
    "    \"\"\"유니코드 정규화\"\"\"\n",
    "    return unicodedata.normalize('NFC', s)\n",
    "\n",
    "def format_docs(docs):\n",
    "    \"\"\"검색된 문서들을 하나의 문자열로 포맷팅\"\"\"\n",
    "    context = \"\"\n",
    "    for doc in docs:\n",
    "        context += doc.page_content\n",
    "        context += '\\n'\n",
    "    return context\n",
    "\n",
    "# 테스트용으로 첫 번째 질문만 선택\n",
    "# row = df.iloc[0]\n",
    "\n",
    "# 소스 문자열 정규화\n",
    "source = normalize_string('숭어')\n",
    "question = '숭어의 서식지는 어떻게 돼?'\n",
    "\n",
    "# 정규화된 키로 데이터베이스 검색\n",
    "normalized_keys = {normalize_string(k): v for k, v in fish_pdf_databases.items()}\n",
    "retriever = normalized_keys[source]['retriever']\n",
    "\n",
    "# RAG 체인 구성\n",
    "template = \"\"\"\n",
    "다음 정보를 바탕으로 질문에 답하세요:\n",
    "{context}\n",
    "\n",
    "질문: {question}\n",
    "\n",
    "주어진 질문에만 답변하세요. 문장으로 답변해주세요. 답변할 때 질문의 주어를 써주세요.\n",
    "답변:\n",
    "\"\"\"\n",
    "prompt = PromptTemplate.from_template(template)\n",
    "\n",
    "# RAG 체인 정의\n",
    "rag_chain = (\n",
    "    {\"context\": retriever | format_docs, \"question\": RunnablePassthrough()}\n",
    "    | prompt\n",
    "    | llm\n",
    "    | StrOutputParser()\n",
    ")\n",
    "\n",
    "# 답변 추론\n",
    "print(f\"Question: {question}\")\n",
    "full_response = rag_chain.invoke(question)\n",
    "\n",
    "print(f\"Answer: {full_response}\\n\")\n",
    "\n",
    "# 결과 저장\n",
    "# results = [{\n",
    "#     \"Source\": row['Source'],\n",
    "#     \"Source_path\": row['Source_path'],\n",
    "#     \"Question\": question,\n",
    "#     \"Answer\": full_response\n",
    "# }]\n"
   ]
  },
  {
   "cell_type": "code",
   "execution_count": 22,
   "metadata": {},
   "outputs": [],
   "source": [
    "from langchain.docstore import InMemoryDocstore\n",
    "\n",
    "# 임베딩 설정\n",
    "model_path = \"intfloat/multilingual-e5-base\"\n",
    "model_kwargs = {'device': 'cuda'}\n",
    "encode_kwargs = {'normalize_embeddings': True}\n",
    "embeddings = HuggingFaceEmbeddings(\n",
    "    model_name=model_path,\n",
    "    model_kwargs=model_kwargs,\n",
    "    encode_kwargs=encode_kwargs\n",
    ")\n",
    "\n",
    "# 빈 docstore와 index_to_docstore_id 생성\n",
    "docstore = InMemoryDocstore({})\n",
    "index_to_docstore_id = {}\n",
    "\n",
    "\n",
    "index = faiss.read_index( \"./faiss/fish/숭어_faiss_db.index\")\n",
    "db = FAISS(\n",
    "    embedding_function=embeddings,\n",
    "    index=index,\n",
    "    docstore=docstore,\n",
    "    index_to_docstore_id=index_to_docstore_id\n",
    ")"
   ]
  },
  {
   "cell_type": "code",
   "execution_count": 24,
   "metadata": {},
   "outputs": [
    {
     "data": {
      "text/plain": [
       "VectorStoreRetriever(tags=['FAISS', 'HuggingFaceEmbeddings'], vectorstore=<langchain_community.vectorstores.faiss.FAISS object at 0x7fcce3939f40>, search_type='mmr', search_kwargs={'k': 3, 'fetch_k': 8})"
      ]
     },
     "execution_count": 24,
     "metadata": {},
     "output_type": "execute_result"
    }
   ],
   "source": [
    "db.as_retriever(search_type=\"mmr\", search_kwargs={'k': 3, 'fetch_k': 8})"
   ]
  },
  {
   "cell_type": "code",
   "execution_count": null,
   "metadata": {},
   "outputs": [],
   "source": [
    "def normalize_string(s):\n",
    "    \"\"\"유니코드 정규화\"\"\"\n",
    "    return unicodedata.normalize('NFC', s)\n",
    "\n",
    "def format_docs(docs):\n",
    "    \"\"\"검색된 문서들을 하나의 문자열로 포맷팅\"\"\"\n",
    "    context = \"\"\n",
    "    for doc in docs:\n",
    "        context += doc.page_content\n",
    "        context += '\\n'\n",
    "    return context\n",
    "\n",
    "# 결과를 저장할 리스트 초기화\n",
    "results = []\n",
    "\n",
    "# DataFrame의 각 행에 대해 처리\n",
    "for _, row in tqdm(df.iterrows(), total=len(df), desc=\"Answering Questions\"):\n",
    "    # 소스 문자열 정규화\n",
    "    source = normalize_string(row['Source'])\n",
    "    question = row['Question']\n",
    "\n",
    "    # 정규화된 키로 데이터베이스 검색\n",
    "    normalized_keys = {normalize_string(k): v for k, v in pdf_databases.items()}\n",
    "    retriever = normalized_keys[source]['retriever']\n",
    "\n",
    "    # RAG 체인 구성\n",
    "    template = \"\"\"\n",
    "    다음 정보를 바탕으로 질문에 답하세요:\n",
    "    {context}\n",
    "\n",
    "    질문: {question}\n",
    "    \n",
    "    주어진 질문에만 답변하세요. 문장으로 답변해주세요. 답변할 때 질문의 주어를 써주세요.\n",
    "    답변:\n",
    "    \"\"\"\n",
    "    prompt = PromptTemplate.from_template(template)\n",
    "\n",
    "    # RAG 체인 정의\n",
    "    rag_chain = (\n",
    "        {\"context\": retriever | format_docs, \"question\": RunnablePassthrough()}\n",
    "        | prompt\n",
    "        | llm\n",
    "        | StrOutputParser()\n",
    "    )\n",
    "\n",
    "    # 답변 추론\n",
    "    print(f\"Question: {question}\")\n",
    "    full_response = rag_chain.invoke(question)\n",
    "\n",
    "    print(f\"Answer: {full_response}\\n\")\n",
    "\n",
    "    # 결과 저장\n",
    "    results.append({\n",
    "        \"Source\": row['Source'],\n",
    "        \"Source_path\": row['Source_path'],\n",
    "        \"Question\": question,\n",
    "        \"Answer\": full_response\n",
    "    })"
   ]
  }
 ],
 "metadata": {
  "kernelspec": {
   "display_name": "financial_info",
   "language": "python",
   "name": "python3"
  },
  "language_info": {
   "codemirror_mode": {
    "name": "ipython",
    "version": 3
   },
   "file_extension": ".py",
   "mimetype": "text/x-python",
   "name": "python",
   "nbconvert_exporter": "python",
   "pygments_lexer": "ipython3",
   "version": "3.9.19"
  }
 },
 "nbformat": 4,
 "nbformat_minor": 2
}
